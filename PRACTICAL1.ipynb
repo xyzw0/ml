{
  "nbformat": 4,
  "nbformat_minor": 0,
  "metadata": {
    "colab": {
      "provenance": []
    },
    "kernelspec": {
      "name": "python3",
      "display_name": "Python 3"
    },
    "language_info": {
      "name": "python"
    }
  },
  "cells": [
    {
      "cell_type": "code",
      "source": [
        "import numpy as np\n",
        "blank_arr = np.array([])\n",
        "print(\"Blank Array: \", blank_arr)\n",
        "\n",
        "arr_zero = np.zeros(5)\n",
        "print('Array of zeros:',arr_zero)\n"
      ],
      "metadata": {
        "colab": {
          "base_uri": "https://localhost:8080/"
        },
        "id": "Qm2xafIL3oGh",
        "outputId": "b284def8-7aba-47a1-b159-af16bd3e371b"
      },
      "execution_count": null,
      "outputs": [
        {
          "output_type": "stream",
          "name": "stdout",
          "text": [
            "Blank Array:  []\n",
            "Array of zeros: [0. 0. 0. 0. 0.]\n"
          ]
        }
      ]
    },
    {
      "cell_type": "code",
      "source": [
        "arr = np.array([10, 20, 30, 40, 50, 60, 70, 80, 90])\n",
        "arr1 = np.array([[10, 20, 30, 40],\n",
        "                [50, 60, 70, 80]])\n",
        "\n",
        "print(\"Array with Predefined Data: \", arr)\n",
        "print(\"Array with Pattern Specific Data: \\n\", arr1)"
      ],
      "metadata": {
        "colab": {
          "base_uri": "https://localhost:8080/"
        },
        "id": "0FJE_ALHifmv",
        "outputId": "bb109c7e-a513-4b7b-9b05-66938077bb0d"
      },
      "execution_count": null,
      "outputs": [
        {
          "output_type": "stream",
          "name": "stdout",
          "text": [
            "Array with Predefined Data:  [10 20 30 40 50 60 70 80 90]\n",
            "Array with Pattern Specific Data: \n",
            " [[10 20 30 40]\n",
            " [50 60 70 80]]\n"
          ]
        }
      ]
    },
    {
      "cell_type": "code",
      "source": [
        "# Array Slicing of 1D array\n",
        "a1 = arr[:2]\n",
        "a2 = arr[5:]\n",
        "a3 = arr[2:5]\n",
        "\n",
        "print(\"Array 1: \", a1)\n",
        "print(\"Array 2: \", a2)\n",
        "print(\"Array 3: \", a3)"
      ],
      "metadata": {
        "colab": {
          "base_uri": "https://localhost:8080/"
        },
        "id": "fuERMlkCiVBr",
        "outputId": "2dba678d-db0a-4626-e930-9c1c047252d1"
      },
      "execution_count": null,
      "outputs": [
        {
          "output_type": "stream",
          "name": "stdout",
          "text": [
            "Array 1:  [10 20]\n",
            "Array 2:  [60 70 80 90]\n",
            "Array 3:  [30 40 50]\n"
          ]
        }
      ]
    },
    {
      "cell_type": "code",
      "source": [
        "# Array Slicing of 2D array\n",
        "a4 = arr1[:,1]\n",
        "a5 = arr1[1,:]\n",
        "a6 = arr1[0,3]\n",
        "\n",
        "print(\"Array 4: \", a4)\n",
        "print(\"Array 5: \", a5)\n",
        "print(\"Specific Element: \", a6)"
      ],
      "metadata": {
        "colab": {
          "base_uri": "https://localhost:8080/"
        },
        "id": "t8FdA470qk-O",
        "outputId": "cd61a1b4-6c57-43e1-cd1a-129a7d36f06d"
      },
      "execution_count": null,
      "outputs": [
        {
          "output_type": "stream",
          "name": "stdout",
          "text": [
            "Array 4:  [20 60]\n",
            "Array 5:  [50 60 70 80]\n",
            "Specific Element:  40\n"
          ]
        }
      ]
    },
    {
      "cell_type": "code",
      "source": [
        "# Updating Array\n",
        "arr[0] = 100\n",
        "print(\"Updated 1D array: \", arr)\n",
        "\n",
        "arr1[1][3] = 20\n",
        "print(\"Updated 2D array: \\n\", arr1)"
      ],
      "metadata": {
        "colab": {
          "base_uri": "https://localhost:8080/"
        },
        "id": "Bp8Nodr3kGRx",
        "outputId": "837450db-fb93-4e6d-9229-0779e6bc4e03"
      },
      "execution_count": null,
      "outputs": [
        {
          "output_type": "stream",
          "name": "stdout",
          "text": [
            "Updated 1D array:  [100  20  30  40  50  60  70  80  90]\n",
            "Updated 2D array: \n",
            " [[10 20 30 40]\n",
            " [50 60 70 20]]\n"
          ]
        }
      ]
    },
    {
      "cell_type": "code",
      "source": [
        "arr2 = np.array([[1, 2, 3],\n",
        "                 [4, 5, 6],\n",
        "                 [7, 8, 9],\n",
        "                 [10, 11, 12]])\n",
        "\n",
        "print(\"Array 2: \\n\", arr2)\n",
        "print(\"Shape of array: \", arr2.shape)"
      ],
      "metadata": {
        "colab": {
          "base_uri": "https://localhost:8080/"
        },
        "id": "9fZs4Itwk1Rv",
        "outputId": "c2baf8bf-e7eb-438c-8dc1-7b8aba783cff"
      },
      "execution_count": null,
      "outputs": [
        {
          "output_type": "stream",
          "name": "stdout",
          "text": [
            "Array 2: \n",
            " [[ 1  2  3]\n",
            " [ 4  5  6]\n",
            " [ 7  8  9]\n",
            " [10 11 12]]\n",
            "Shape of array:  (4, 3)\n"
          ]
        }
      ]
    },
    {
      "cell_type": "code",
      "source": [
        "# Reshaping of Array\n",
        "arr_reshape = arr2.reshape(3, 4)\n",
        "print(\"Array after reshaping to dimension (3, 4): \\n\", arr_reshape)\n",
        "\n",
        "arr_reshape2 = arr2.reshape(-1)\n",
        "print(\"\\nArray after reshaping to one dimension: \\n\", arr_reshape2)"
      ],
      "metadata": {
        "colab": {
          "base_uri": "https://localhost:8080/"
        },
        "id": "CtRCQLV1lRwO",
        "outputId": "deb33ea8-b3be-4368-ca91-846e59d3aae6"
      },
      "execution_count": null,
      "outputs": [
        {
          "output_type": "stream",
          "name": "stdout",
          "text": [
            "Array after reshaping to dimension (3, 4): \n",
            " [[ 1  2  3  4]\n",
            " [ 5  6  7  8]\n",
            " [ 9 10 11 12]]\n",
            "\n",
            "Array after reshaping to one dimension: \n",
            " [ 1  2  3  4  5  6  7  8  9 10 11 12]\n"
          ]
        }
      ]
    },
    {
      "cell_type": "code",
      "source": [
        "# Looping over Array\n",
        "print(\"Array 1: \", arr)\n",
        "\n",
        "for i in range(len(arr)):\n",
        "  print(f\"a[{i}]: {arr[i]}\")"
      ],
      "metadata": {
        "colab": {
          "base_uri": "https://localhost:8080/"
        },
        "id": "F4VYDvmjmY8S",
        "outputId": "d6f56cbb-e26f-4cd7-eb8f-1a2521a1687c"
      },
      "execution_count": null,
      "outputs": [
        {
          "output_type": "stream",
          "name": "stdout",
          "text": [
            "Array 1:  [10 20 30 40 50 60 70 80 90]\n",
            "a[0]: 10\n",
            "a[1]: 20\n",
            "a[2]: 30\n",
            "a[3]: 40\n",
            "a[4]: 50\n",
            "a[5]: 60\n",
            "a[6]: 70\n",
            "a[7]: 80\n",
            "a[8]: 90\n"
          ]
        }
      ]
    },
    {
      "cell_type": "code",
      "source": [
        "i = 0\n",
        "print(\"Elements of even indexes: \")\n",
        "\n",
        "while i < len(arr):\n",
        "    print(f\"a[{i}]: {arr[i]}\")\n",
        "    i += 2"
      ],
      "metadata": {
        "colab": {
          "base_uri": "https://localhost:8080/"
        },
        "id": "O4G-nhx8mvQB",
        "outputId": "37dac526-a987-468b-c656-689ad8bc8c95"
      },
      "execution_count": null,
      "outputs": [
        {
          "output_type": "stream",
          "name": "stdout",
          "text": [
            "Elements of even indexes: \n",
            "a[0]: 10\n",
            "a[2]: 30\n",
            "a[4]: 50\n",
            "a[6]: 70\n",
            "a[8]: 90\n"
          ]
        }
      ]
    },
    {
      "cell_type": "code",
      "source": [
        "# Reading file\n",
        "file_data = np.loadtxt(\"data2.txt\", dtype=str)\n",
        "print(file_data)"
      ],
      "metadata": {
        "colab": {
          "base_uri": "https://localhost:8080/"
        },
        "id": "FQlSvMv-oQ83",
        "outputId": "154529d9-69f0-4ec4-acc4-3bbc972b8e8f"
      },
      "execution_count": null,
      "outputs": [
        {
          "output_type": "stream",
          "name": "stdout",
          "text": [
            "[['Parikshit' '07' '2003']\n",
            " ['Stephen' '03' '1990']\n",
            " ['Rohit' '45' '1987']]\n"
          ]
        }
      ]
    },
    {
      "cell_type": "code",
      "source": [
        "data = np.genfromtxt(\"data1.csv\", dtype=str,\n",
        "                     encoding=None, delimiter=\",\")\n",
        "print(data)"
      ],
      "metadata": {
        "colab": {
          "base_uri": "https://localhost:8080/"
        },
        "id": "LScLuEhVtX2s",
        "outputId": "7fa25cc7-edc5-4d15-e19a-5318768de22b"
      },
      "execution_count": null,
      "outputs": [
        {
          "output_type": "stream",
          "name": "stdout",
          "text": [
            "[['Parikshit' 'CSE-A' '303']\n",
            " ['Vaibhav' 'CSE-A' '287']\n",
            " ['Priyansh' 'CSE-A' '285']]\n"
          ]
        }
      ]
    }
  ]
}